{
 "cells": [
  {
   "cell_type": "code",
   "execution_count": 26,
   "metadata": {},
   "outputs": [],
   "source": [
    "import sys\n",
    "import os\n",
    "import json\n",
    "\n",
    "import pandas as pd\n",
    "import numpy as np\n",
    "\n",
    "from collections import defaultdict"
   ]
  },
  {
   "cell_type": "code",
   "execution_count": 27,
   "metadata": {},
   "outputs": [],
   "source": [
    "root_dir = 'C:/Users/delst/OneDrive/Desktop/Code/Workspace/JSON_to_PGSQL'\n",
    "sys.path.append(root_dir)\n",
    "\n",
    "from A_Main.Configurations.setup_env import setup_environment\n",
    "config = setup_environment(root_dir)"
   ]
  },
  {
   "cell_type": "code",
   "execution_count": 28,
   "metadata": {},
   "outputs": [],
   "source": [
    "raw_data_path = config.raw_data"
   ]
  },
  {
   "attachments": {},
   "cell_type": "markdown",
   "metadata": {},
   "source": [
    "---"
   ]
  },
  {
   "cell_type": "code",
   "execution_count": 29,
   "metadata": {},
   "outputs": [],
   "source": [
    "with open(raw_data_path, 'r', encoding='utf-8') as f:\n",
    "    raw_data = json.load(f)"
   ]
  },
  {
   "attachments": {},
   "cell_type": "markdown",
   "metadata": {},
   "source": [
    "---"
   ]
  },
  {
   "attachments": {},
   "cell_type": "markdown",
   "metadata": {},
   "source": [
    "# **Drill 1**"
   ]
  },
  {
   "cell_type": "code",
   "execution_count": 30,
   "metadata": {},
   "outputs": [
    {
     "data": {
      "text/plain": [
       "['kind', 'data']"
      ]
     },
     "execution_count": 30,
     "metadata": {},
     "output_type": "execute_result"
    }
   ],
   "source": [
    "level_top = [key for key in raw_data.keys()]\n",
    "level_top"
   ]
  },
  {
   "cell_type": "code",
   "execution_count": 31,
   "metadata": {},
   "outputs": [
    {
     "data": {
      "text/plain": [
       "['after', 'dist', 'modhash', 'geo_filter', 'children', 'before']"
      ]
     },
     "execution_count": 31,
     "metadata": {},
     "output_type": "execute_result"
    }
   ],
   "source": [
    "level_2_data = [key for key in raw_data['data'].keys()]\n",
    "level_2_data"
   ]
  },
  {
   "cell_type": "code",
   "execution_count": 32,
   "metadata": {},
   "outputs": [
    {
     "data": {
      "text/plain": [
       "'Listing'"
      ]
     },
     "execution_count": 32,
     "metadata": {},
     "output_type": "execute_result"
    }
   ],
   "source": [
    "level_2_listing = raw_data['kind']\n",
    "level_2_listing"
   ]
  },
  {
   "attachments": {},
   "cell_type": "markdown",
   "metadata": {},
   "source": [
    "---"
   ]
  },
  {
   "attachments": {},
   "cell_type": "markdown",
   "metadata": {},
   "source": [
    "# **Drill 2**"
   ]
  },
  {
   "cell_type": "code",
   "execution_count": 33,
   "metadata": {},
   "outputs": [
    {
     "data": {
      "text/plain": [
       "['after', 'dist', 'modhash', 'geo_filter', 'children', 'before']"
      ]
     },
     "execution_count": 33,
     "metadata": {},
     "output_type": "execute_result"
    }
   ],
   "source": [
    "level_2_options = [key for key in raw_data['data'].keys()]\n",
    "level_2_options"
   ]
  },
  {
   "cell_type": "code",
   "execution_count": 35,
   "metadata": {},
   "outputs": [
    {
     "data": {
      "text/plain": [
       "{'kind': 't3',\n",
       " 'data': {'approved_at_utc': None,\n",
       "  'subreddit': 'WhitePeopleTwitter',\n",
       "  'selftext': '',\n",
       "  'author_fullname': 't2_8a90k0',\n",
       "  'saved': False,\n",
       "  'mod_reason_title': None,\n",
       "  'gilded': 0,\n",
       "  'clicked': False,\n",
       "  'title': \"Yeah, that's not okay.\",\n",
       "  'link_flair_richtext': [{'e': 'text', 't': 'Clubhouse'}],\n",
       "  'subreddit_name_prefixed': 'r/WhitePeopleTwitter',\n",
       "  'hidden': False,\n",
       "  'pwls': None,\n",
       "  'link_flair_css_class': None,\n",
       "  'downs': 0,\n",
       "  'thumbnail_height': 140,\n",
       "  'top_awarded_type': None,\n",
       "  'hide_score': False,\n",
       "  'name': 't3_14a0ayt',\n",
       "  'quarantine': False,\n",
       "  'link_flair_text_color': 'dark',\n",
       "  'upvote_ratio': 0.96,\n",
       "  'author_flair_background_color': None,\n",
       "  'ups': 12836,\n",
       "  'total_awards_received': 0,\n",
       "  'media_embed': {},\n",
       "  'thumbnail_width': 140,\n",
       "  'author_flair_template_id': None,\n",
       "  'is_original_content': False,\n",
       "  'user_reports': [],\n",
       "  'secure_media': None,\n",
       "  'is_reddit_media_domain': True,\n",
       "  'is_meta': False,\n",
       "  'category': None,\n",
       "  'secure_media_embed': {},\n",
       "  'link_flair_text': 'Clubhouse',\n",
       "  'can_mod_post': False,\n",
       "  'score': 12836,\n",
       "  'approved_by': None,\n",
       "  'is_created_from_ads_ui': False,\n",
       "  'author_premium': True,\n",
       "  'thumbnail': 'https://b.thumbs.redditmedia.com/hv0ShtFGoPsuvfG6mqpuNCRxxO6Oabrg-HL7m0-g0ig.jpg',\n",
       "  'edited': False,\n",
       "  'author_flair_css_class': None,\n",
       "  'author_flair_richtext': [],\n",
       "  'gildings': {},\n",
       "  'post_hint': 'image',\n",
       "  'content_categories': None,\n",
       "  'is_self': False,\n",
       "  'subreddit_type': 'public',\n",
       "  'created': 1686829569,\n",
       "  'link_flair_type': 'richtext',\n",
       "  'wls': None,\n",
       "  'removed_by_category': None,\n",
       "  'banned_by': None,\n",
       "  'author_flair_type': 'text',\n",
       "  'domain': 'i.redd.it',\n",
       "  'allow_live_comments': True,\n",
       "  'selftext_html': None,\n",
       "  'likes': None,\n",
       "  'suggested_sort': None,\n",
       "  'banned_at_utc': None,\n",
       "  'url_overridden_by_dest': 'https://i.redd.it/urxp0hrc666b1.png',\n",
       "  'view_count': None,\n",
       "  'archived': False,\n",
       "  'no_follow': False,\n",
       "  'is_crosspostable': True,\n",
       "  'pinned': False,\n",
       "  'over_18': False,\n",
       "  'preview': {'images': [{'source': {'url': 'https://preview.redd.it/urxp0hrc666b1.png?auto=webp&amp;v=enabled&amp;s=ae53a9e5e97d4362ebfebd77a1abdde8a7ca41fa',\n",
       "      'width': 1025,\n",
       "      'height': 1628},\n",
       "     'resolutions': [{'url': 'https://preview.redd.it/urxp0hrc666b1.png?width=108&amp;crop=smart&amp;auto=webp&amp;v=enabled&amp;s=75ebf6d794e5aa01c3d4a5bf7b64dd3cc9485ddd',\n",
       "       'width': 108,\n",
       "       'height': 171},\n",
       "      {'url': 'https://preview.redd.it/urxp0hrc666b1.png?width=216&amp;crop=smart&amp;auto=webp&amp;v=enabled&amp;s=da712ced134d6dcedd7eaea2a66663690d456f64',\n",
       "       'width': 216,\n",
       "       'height': 343},\n",
       "      {'url': 'https://preview.redd.it/urxp0hrc666b1.png?width=320&amp;crop=smart&amp;auto=webp&amp;v=enabled&amp;s=b832ea609bbeebdb2da1b2da61463d2ff5a3dc9c',\n",
       "       'width': 320,\n",
       "       'height': 508},\n",
       "      {'url': 'https://preview.redd.it/urxp0hrc666b1.png?width=640&amp;crop=smart&amp;auto=webp&amp;v=enabled&amp;s=7747364433de8a30d4feea3e1895f539dac5361d',\n",
       "       'width': 640,\n",
       "       'height': 1016},\n",
       "      {'url': 'https://preview.redd.it/urxp0hrc666b1.png?width=960&amp;crop=smart&amp;auto=webp&amp;v=enabled&amp;s=d8ae213a98dacc7f59e907fcdc144299935f1376',\n",
       "       'width': 960,\n",
       "       'height': 1524}],\n",
       "     'variants': {},\n",
       "     'id': '4VWgAl4VJ8GxVz6JYR6o2aXvzunbKRAKU0VefcwCayg'}],\n",
       "   'enabled': True},\n",
       "  'all_awardings': [],\n",
       "  'awarders': [],\n",
       "  'media_only': False,\n",
       "  'link_flair_template_id': '2491e734-cd17-11ed-9c62-06fbff1c98dd',\n",
       "  'can_gild': True,\n",
       "  'spoiler': False,\n",
       "  'locked': False,\n",
       "  'author_flair_text': None,\n",
       "  'treatment_tags': [],\n",
       "  'visited': False,\n",
       "  'removed_by': None,\n",
       "  'mod_note': None,\n",
       "  'distinguished': None,\n",
       "  'subreddit_id': 't5_35n7t',\n",
       "  'author_is_blocked': False,\n",
       "  'mod_reason_by': None,\n",
       "  'num_reports': None,\n",
       "  'removal_reason': None,\n",
       "  'link_flair_background_color': '#7193ff',\n",
       "  'id': '14a0ayt',\n",
       "  'is_robot_indexable': True,\n",
       "  'report_reasons': None,\n",
       "  'author': 'BitterFuture',\n",
       "  'discussion_type': None,\n",
       "  'num_comments': 1221,\n",
       "  'send_replies': True,\n",
       "  'whitelist_status': None,\n",
       "  'contest_mode': False,\n",
       "  'mod_reports': [],\n",
       "  'author_patreon_flair': False,\n",
       "  'author_flair_text_color': None,\n",
       "  'permalink': '/r/WhitePeopleTwitter/comments/14a0ayt/yeah_thats_not_okay/',\n",
       "  'parent_whitelist_status': None,\n",
       "  'stickied': False,\n",
       "  'url': 'https://i.redd.it/urxp0hrc666b1.png',\n",
       "  'subreddit_subscribers': 2956095,\n",
       "  'created_utc': 1686829569,\n",
       "  'num_crossposts': 4,\n",
       "  'media': None,\n",
       "  'is_video': False}}"
      ]
     },
     "execution_count": 35,
     "metadata": {},
     "output_type": "execute_result"
    }
   ],
   "source": [
    "posts = raw_data['data']['children']\n",
    "posts[0]"
   ]
  },
  {
   "cell_type": "code",
   "execution_count": 38,
   "metadata": {},
   "outputs": [
    {
     "data": {
      "text/plain": [
       "[dict_keys(['approved_at_utc', 'subreddit', 'selftext', 'author_fullname', 'saved', 'mod_reason_title', 'gilded', 'clicked', 'title', 'link_flair_richtext', 'subreddit_name_prefixed', 'hidden', 'pwls', 'link_flair_css_class', 'downs', 'thumbnail_height', 'top_awarded_type', 'hide_score', 'name', 'quarantine', 'link_flair_text_color', 'upvote_ratio', 'author_flair_background_color', 'ups', 'total_awards_received', 'media_embed', 'thumbnail_width', 'author_flair_template_id', 'is_original_content', 'user_reports', 'secure_media', 'is_reddit_media_domain', 'is_meta', 'category', 'secure_media_embed', 'link_flair_text', 'can_mod_post', 'score', 'approved_by', 'is_created_from_ads_ui', 'author_premium', 'thumbnail', 'edited', 'author_flair_css_class', 'author_flair_richtext', 'gildings', 'post_hint', 'content_categories', 'is_self', 'subreddit_type', 'created', 'link_flair_type', 'wls', 'removed_by_category', 'banned_by', 'author_flair_type', 'domain', 'allow_live_comments', 'selftext_html', 'likes', 'suggested_sort', 'banned_at_utc', 'url_overridden_by_dest', 'view_count', 'archived', 'no_follow', 'is_crosspostable', 'pinned', 'over_18', 'preview', 'all_awardings', 'awarders', 'media_only', 'link_flair_template_id', 'can_gild', 'spoiler', 'locked', 'author_flair_text', 'treatment_tags', 'visited', 'removed_by', 'mod_note', 'distinguished', 'subreddit_id', 'author_is_blocked', 'mod_reason_by', 'num_reports', 'removal_reason', 'link_flair_background_color', 'id', 'is_robot_indexable', 'report_reasons', 'author', 'discussion_type', 'num_comments', 'send_replies', 'whitelist_status', 'contest_mode', 'mod_reports', 'author_patreon_flair', 'author_flair_text_color', 'permalink', 'parent_whitelist_status', 'stickied', 'url', 'subreddit_subscribers', 'created_utc', 'num_crossposts', 'media', 'is_video']),\n",
       " dict_keys(['approved_at_utc', 'subreddit', 'selftext', 'author_fullname', 'saved', 'mod_reason_title', 'gilded', 'clicked', 'title', 'link_flair_richtext', 'subreddit_name_prefixed', 'hidden', 'pwls', 'link_flair_css_class', 'downs', 'thumbnail_height', 'top_awarded_type', 'hide_score', 'name', 'quarantine', 'link_flair_text_color', 'upvote_ratio', 'author_flair_background_color', 'ups', 'total_awards_received', 'media_embed', 'thumbnail_width', 'author_flair_template_id', 'is_original_content', 'user_reports', 'secure_media', 'is_reddit_media_domain', 'is_meta', 'category', 'secure_media_embed', 'link_flair_text', 'can_mod_post', 'score', 'approved_by', 'is_created_from_ads_ui', 'author_premium', 'thumbnail', 'edited', 'author_flair_css_class', 'author_flair_richtext', 'gildings', 'post_hint', 'content_categories', 'is_self', 'subreddit_type', 'created', 'link_flair_type', 'wls', 'removed_by_category', 'banned_by', 'author_flair_type', 'domain', 'allow_live_comments', 'selftext_html', 'likes', 'suggested_sort', 'banned_at_utc', 'url_overridden_by_dest', 'view_count', 'archived', 'no_follow', 'is_crosspostable', 'pinned', 'over_18', 'preview', 'all_awardings', 'awarders', 'media_only', 'link_flair_template_id', 'can_gild', 'spoiler', 'locked', 'author_flair_text', 'treatment_tags', 'visited', 'removed_by', 'mod_note', 'distinguished', 'subreddit_id', 'author_is_blocked', 'mod_reason_by', 'num_reports', 'removal_reason', 'link_flair_background_color', 'id', 'is_robot_indexable', 'report_reasons', 'author', 'discussion_type', 'num_comments', 'send_replies', 'whitelist_status', 'contest_mode', 'mod_reports', 'author_patreon_flair', 'author_flair_text_color', 'permalink', 'parent_whitelist_status', 'stickied', 'url', 'subreddit_subscribers', 'created_utc', 'num_crossposts', 'media', 'is_video']),\n",
       " dict_keys(['approved_at_utc', 'subreddit', 'selftext', 'author_fullname', 'saved', 'mod_reason_title', 'gilded', 'clicked', 'title', 'link_flair_richtext', 'subreddit_name_prefixed', 'hidden', 'pwls', 'link_flair_css_class', 'downs', 'thumbnail_height', 'top_awarded_type', 'hide_score', 'name', 'quarantine', 'link_flair_text_color', 'upvote_ratio', 'author_flair_background_color', 'ups', 'total_awards_received', 'media_embed', 'thumbnail_width', 'author_flair_template_id', 'is_original_content', 'user_reports', 'secure_media', 'is_reddit_media_domain', 'is_meta', 'category', 'secure_media_embed', 'link_flair_text', 'can_mod_post', 'score', 'approved_by', 'is_created_from_ads_ui', 'author_premium', 'thumbnail', 'edited', 'author_flair_css_class', 'author_flair_richtext', 'gildings', 'post_hint', 'content_categories', 'is_self', 'subreddit_type', 'created', 'link_flair_type', 'wls', 'removed_by_category', 'banned_by', 'author_flair_type', 'domain', 'allow_live_comments', 'selftext_html', 'likes', 'suggested_sort', 'banned_at_utc', 'url_overridden_by_dest', 'view_count', 'archived', 'no_follow', 'is_crosspostable', 'pinned', 'over_18', 'preview', 'all_awardings', 'awarders', 'media_only', 'link_flair_template_id', 'can_gild', 'spoiler', 'locked', 'author_flair_text', 'treatment_tags', 'visited', 'removed_by', 'mod_note', 'distinguished', 'subreddit_id', 'author_is_blocked', 'mod_reason_by', 'num_reports', 'removal_reason', 'link_flair_background_color', 'id', 'is_robot_indexable', 'report_reasons', 'author', 'discussion_type', 'num_comments', 'send_replies', 'whitelist_status', 'contest_mode', 'mod_reports', 'author_patreon_flair', 'author_flair_text_color', 'permalink', 'parent_whitelist_status', 'stickied', 'url', 'subreddit_subscribers', 'created_utc', 'num_crossposts', 'media', 'is_video'])]"
      ]
     },
     "execution_count": 38,
     "metadata": {},
     "output_type": "execute_result"
    }
   ],
   "source": [
    "[post['data'].keys() for post in posts][0:3]"
   ]
  },
  {
   "cell_type": "code",
   "execution_count": 39,
   "metadata": {},
   "outputs": [
    {
     "data": {
      "text/plain": [
       "[dict_values([None, 'WhitePeopleTwitter', '', 't2_8a90k0', False, None, 0, False, \"Yeah, that's not okay.\", [{'e': 'text', 't': 'Clubhouse'}], 'r/WhitePeopleTwitter', False, None, None, 0, 140, None, False, 't3_14a0ayt', False, 'dark', 0.96, None, 12836, 0, {}, 140, None, False, [], None, True, False, None, {}, 'Clubhouse', False, 12836, None, False, True, 'https://b.thumbs.redditmedia.com/hv0ShtFGoPsuvfG6mqpuNCRxxO6Oabrg-HL7m0-g0ig.jpg', False, None, [], {}, 'image', None, False, 'public', 1686829569, 'richtext', None, None, None, 'text', 'i.redd.it', True, None, None, None, None, 'https://i.redd.it/urxp0hrc666b1.png', None, False, False, True, False, False, {'images': [{'source': {'url': 'https://preview.redd.it/urxp0hrc666b1.png?auto=webp&amp;v=enabled&amp;s=ae53a9e5e97d4362ebfebd77a1abdde8a7ca41fa', 'width': 1025, 'height': 1628}, 'resolutions': [{'url': 'https://preview.redd.it/urxp0hrc666b1.png?width=108&amp;crop=smart&amp;auto=webp&amp;v=enabled&amp;s=75ebf6d794e5aa01c3d4a5bf7b64dd3cc9485ddd', 'width': 108, 'height': 171}, {'url': 'https://preview.redd.it/urxp0hrc666b1.png?width=216&amp;crop=smart&amp;auto=webp&amp;v=enabled&amp;s=da712ced134d6dcedd7eaea2a66663690d456f64', 'width': 216, 'height': 343}, {'url': 'https://preview.redd.it/urxp0hrc666b1.png?width=320&amp;crop=smart&amp;auto=webp&amp;v=enabled&amp;s=b832ea609bbeebdb2da1b2da61463d2ff5a3dc9c', 'width': 320, 'height': 508}, {'url': 'https://preview.redd.it/urxp0hrc666b1.png?width=640&amp;crop=smart&amp;auto=webp&amp;v=enabled&amp;s=7747364433de8a30d4feea3e1895f539dac5361d', 'width': 640, 'height': 1016}, {'url': 'https://preview.redd.it/urxp0hrc666b1.png?width=960&amp;crop=smart&amp;auto=webp&amp;v=enabled&amp;s=d8ae213a98dacc7f59e907fcdc144299935f1376', 'width': 960, 'height': 1524}], 'variants': {}, 'id': '4VWgAl4VJ8GxVz6JYR6o2aXvzunbKRAKU0VefcwCayg'}], 'enabled': True}, [], [], False, '2491e734-cd17-11ed-9c62-06fbff1c98dd', True, False, False, None, [], False, None, None, None, 't5_35n7t', False, None, None, None, '#7193ff', '14a0ayt', True, None, 'BitterFuture', None, 1221, True, None, False, [], False, None, '/r/WhitePeopleTwitter/comments/14a0ayt/yeah_thats_not_okay/', None, False, 'https://i.redd.it/urxp0hrc666b1.png', 2956095, 1686829569, 4, None, False]),\n",
       " dict_values([None, 'WorkReform', '', 't2_zka5i', False, None, 0, False, 'Just 1 neat single page law would completely change the housing market.', [], 'r/WorkReform', False, 7, '', 0, 140, None, False, 't3_14a1hq5', False, 'light', 0.96, None, 8493, 0, {}, 140, None, False, [], None, True, False, None, {}, '❔ Other', False, 8493, None, False, False, 'https://b.thumbs.redditmedia.com/E5JI3dtZeIHgAOTE3I18cp0Epe_7DeLtfzy2DKuR0jk.jpg', False, None, [], {}, 'image', None, False, 'public', 1686833068, 'text', 7, None, None, 'text', 'i.redd.it', False, None, None, 'confidence', None, 'https://i.redd.it/u9e31qnjg66b1.jpg', None, False, False, True, False, False, {'images': [{'source': {'url': 'https://preview.redd.it/u9e31qnjg66b1.jpg?auto=webp&amp;v=enabled&amp;s=547a2d5f269c12e2caba402dcdefc6dd72d21c7e', 'width': 1046, 'height': 1306}, 'resolutions': [{'url': 'https://preview.redd.it/u9e31qnjg66b1.jpg?width=108&amp;crop=smart&amp;auto=webp&amp;v=enabled&amp;s=6d369ec99ea44c4f4b141848632ec33f2f147afb', 'width': 108, 'height': 134}, {'url': 'https://preview.redd.it/u9e31qnjg66b1.jpg?width=216&amp;crop=smart&amp;auto=webp&amp;v=enabled&amp;s=bb829b817389ed99e4cb31150c7e91cf86d5b5a2', 'width': 216, 'height': 269}, {'url': 'https://preview.redd.it/u9e31qnjg66b1.jpg?width=320&amp;crop=smart&amp;auto=webp&amp;v=enabled&amp;s=c3a5700938a6207c2d91a7fff934f6d1579ca1f5', 'width': 320, 'height': 399}, {'url': 'https://preview.redd.it/u9e31qnjg66b1.jpg?width=640&amp;crop=smart&amp;auto=webp&amp;v=enabled&amp;s=6bef6244eb721efe40dced498ca8722e64939952', 'width': 640, 'height': 799}, {'url': 'https://preview.redd.it/u9e31qnjg66b1.jpg?width=960&amp;crop=smart&amp;auto=webp&amp;v=enabled&amp;s=05ad974272eb06ba471d19bfd213586ef55c5df7', 'width': 960, 'height': 1198}], 'variants': {}, 'id': 'gAk-dl1pjVUL88HkOOUMiT7PqP6wZncsweXFa-i6fUI'}], 'enabled': True}, [], [], False, '62cc9266-f2b0-11ec-9096-baad01c86c30', True, False, False, None, [], False, None, None, None, 't5_5qpzgw', False, None, None, None, '#373c3f', '14a1hq5', True, None, 'PudgeHug', None, 477, True, 'some_ads', False, [], False, None, '/r/WorkReform/comments/14a1hq5/just_1_neat_single_page_law_would_completely/', 'some_ads', False, 'https://i.redd.it/u9e31qnjg66b1.jpg', 697738, 1686833068, 0, None, False]),\n",
       " dict_values([None, 'therewasanattempt', '', 't2_vld7gkdk', False, None, 0, False, 'To speed because he is a cop.', [{'e': 'text', 't': 'Video/Gif'}], 'r/therewasanattempt', False, 7, '', 0, 78, None, False, 't3_149yrlt', False, 'dark', 0.95, None, 27260, 2, {}, 140, None, False, [], {'reddit_video': {'bitrate_kbps': 1200, 'fallback_url': 'https://v.redd.it/evmp79fbr56b1/DASH_480.mp4?source=fallback', 'has_audio': True, 'height': 480, 'width': 854, 'scrubber_media_url': 'https://v.redd.it/evmp79fbr56b1/DASH_96.mp4', 'dash_url': 'https://v.redd.it/evmp79fbr56b1/DASHPlaylist.mpd?a=1689435086%2CZGI5YzZlMTBkMWViZmZjM2E4NjZhODJlMTM3ZjVjMWNhYWI3NjM5YTcyZmE5ZjA2Mjk5OGUyZjQ5OWY3MDdiMQ%3D%3D&amp;v=1&amp;f=sd', 'duration': 68, 'hls_url': 'https://v.redd.it/evmp79fbr56b1/HLSPlaylist.m3u8?a=1689435086%2CMzA1YjFkMDUwYTIwZDkzZTZjMWVjMGZhYTJmNmI4N2Y0ZWJkYjQ1MjU2YzgwZDJiNmI4MmU0OWRhYTU4MGIyMQ%3D%3D&amp;v=1&amp;f=sd', 'is_gif': False, 'transcoding_status': 'completed'}}, True, False, None, {}, 'Video/Gif', False, 27260, None, False, False, 'https://external-preview.redd.it/NndmejhuYmJyNTZiMb0UmIeULhm5TqEhpHt9vw3gmBGF49GP9zYrRQXo0DjB.png?width=140&amp;height=78&amp;crop=140:78,smart&amp;format=jpg&amp;v=enabled&amp;lthumb=true&amp;s=30de45fec71d9818160608e2b58920616c68cfbe', False, None, [], {}, 'hosted:video', None, False, 'public', 1686824527, 'richtext', 7, None, None, 'text', 'v.redd.it', True, None, None, None, None, 'https://v.redd.it/evmp79fbr56b1', None, False, False, True, False, False, {'images': [{'source': {'url': 'https://external-preview.redd.it/NndmejhuYmJyNTZiMb0UmIeULhm5TqEhpHt9vw3gmBGF49GP9zYrRQXo0DjB.png?format=pjpg&amp;auto=webp&amp;v=enabled&amp;s=c8e52efa78285a073513c5e633b48cc4aa10f5e6', 'width': 960, 'height': 540}, 'resolutions': [{'url': 'https://external-preview.redd.it/NndmejhuYmJyNTZiMb0UmIeULhm5TqEhpHt9vw3gmBGF49GP9zYrRQXo0DjB.png?width=108&amp;crop=smart&amp;format=pjpg&amp;auto=webp&amp;v=enabled&amp;s=6af097129198577a69139d02620e0104d1939fe2', 'width': 108, 'height': 60}, {'url': 'https://external-preview.redd.it/NndmejhuYmJyNTZiMb0UmIeULhm5TqEhpHt9vw3gmBGF49GP9zYrRQXo0DjB.png?width=216&amp;crop=smart&amp;format=pjpg&amp;auto=webp&amp;v=enabled&amp;s=0ecd9512a3f39e1967f47656f9588d17b2c078a7', 'width': 216, 'height': 121}, {'url': 'https://external-preview.redd.it/NndmejhuYmJyNTZiMb0UmIeULhm5TqEhpHt9vw3gmBGF49GP9zYrRQXo0DjB.png?width=320&amp;crop=smart&amp;format=pjpg&amp;auto=webp&amp;v=enabled&amp;s=d17b90f3f3bcac3b253dd17db917ec9cfff5b65c', 'width': 320, 'height': 180}, {'url': 'https://external-preview.redd.it/NndmejhuYmJyNTZiMb0UmIeULhm5TqEhpHt9vw3gmBGF49GP9zYrRQXo0DjB.png?width=640&amp;crop=smart&amp;format=pjpg&amp;auto=webp&amp;v=enabled&amp;s=dbbcb150830dcd356fdb90ca506bfe34a9acbcc2', 'width': 640, 'height': 360}, {'url': 'https://external-preview.redd.it/NndmejhuYmJyNTZiMb0UmIeULhm5TqEhpHt9vw3gmBGF49GP9zYrRQXo0DjB.png?width=960&amp;crop=smart&amp;format=pjpg&amp;auto=webp&amp;v=enabled&amp;s=d17c12d994e2ddf591973400003e4e938fa490ae', 'width': 960, 'height': 540}], 'variants': {}, 'id': 'NndmejhuYmJyNTZiMb0UmIeULhm5TqEhpHt9vw3gmBGF49GP9zYrRQXo0DjB'}], 'enabled': False}, [{'giver_coin_reward': None, 'subreddit_id': None, 'is_new': False, 'days_of_drip_extension': None, 'coin_price': 30, 'id': 'award_a2506925-fc82-4d6c-ae3b-b7217e09d7f0', 'penny_donate': None, 'award_sub_type': 'PREMIUM', 'coin_reward': 0, 'icon_url': 'https://i.redd.it/award_images/t5_22cerq/80j20o397jj41_NarwhalSalute.png', 'days_of_premium': None, 'tiers_by_required_awardings': None, 'resized_icons': [{'url': 'https://preview.redd.it/award_images/t5_22cerq/80j20o397jj41_NarwhalSalute.png?width=16&amp;height=16&amp;auto=webp&amp;v=enabled&amp;s=8a2a2acbd09705a194b77e9d555b630ec0ed9966', 'width': 16, 'height': 16}, {'url': 'https://preview.redd.it/award_images/t5_22cerq/80j20o397jj41_NarwhalSalute.png?width=32&amp;height=32&amp;auto=webp&amp;v=enabled&amp;s=a1b4dc570c54d4835d396ce6f327cc5df2cd067c', 'width': 32, 'height': 32}, {'url': 'https://preview.redd.it/award_images/t5_22cerq/80j20o397jj41_NarwhalSalute.png?width=48&amp;height=48&amp;auto=webp&amp;v=enabled&amp;s=e4979f617effb9d355397aa2c3f8032870f96fd3', 'width': 48, 'height': 48}, {'url': 'https://preview.redd.it/award_images/t5_22cerq/80j20o397jj41_NarwhalSalute.png?width=64&amp;height=64&amp;auto=webp&amp;v=enabled&amp;s=12d699f41173c6ed50555c5689b463020696a5d3', 'width': 64, 'height': 64}, {'url': 'https://preview.redd.it/award_images/t5_22cerq/80j20o397jj41_NarwhalSalute.png?width=128&amp;height=128&amp;auto=webp&amp;v=enabled&amp;s=5716709f7a329eb81103a5acfee4a545ec0be9b0', 'width': 128, 'height': 128}], 'icon_width': 2048, 'static_icon_width': 2048, 'start_date': None, 'is_enabled': True, 'awardings_required_to_grant_benefits': None, 'description': 'A golden splash of respect', 'end_date': None, 'sticky_duration_seconds': None, 'subreddit_coin_reward': 0, 'count': 1, 'static_icon_height': 2048, 'name': 'Narwhal Salute', 'resized_static_icons': [{'url': 'https://preview.redd.it/award_images/t5_22cerq/80j20o397jj41_NarwhalSalute.png?width=16&amp;height=16&amp;auto=webp&amp;v=enabled&amp;s=8a2a2acbd09705a194b77e9d555b630ec0ed9966', 'width': 16, 'height': 16}, {'url': 'https://preview.redd.it/award_images/t5_22cerq/80j20o397jj41_NarwhalSalute.png?width=32&amp;height=32&amp;auto=webp&amp;v=enabled&amp;s=a1b4dc570c54d4835d396ce6f327cc5df2cd067c', 'width': 32, 'height': 32}, {'url': 'https://preview.redd.it/award_images/t5_22cerq/80j20o397jj41_NarwhalSalute.png?width=48&amp;height=48&amp;auto=webp&amp;v=enabled&amp;s=e4979f617effb9d355397aa2c3f8032870f96fd3', 'width': 48, 'height': 48}, {'url': 'https://preview.redd.it/award_images/t5_22cerq/80j20o397jj41_NarwhalSalute.png?width=64&amp;height=64&amp;auto=webp&amp;v=enabled&amp;s=12d699f41173c6ed50555c5689b463020696a5d3', 'width': 64, 'height': 64}, {'url': 'https://preview.redd.it/award_images/t5_22cerq/80j20o397jj41_NarwhalSalute.png?width=128&amp;height=128&amp;auto=webp&amp;v=enabled&amp;s=5716709f7a329eb81103a5acfee4a545ec0be9b0', 'width': 128, 'height': 128}], 'icon_format': None, 'icon_height': 2048, 'penny_price': None, 'award_type': 'global', 'static_icon_url': 'https://i.redd.it/award_images/t5_22cerq/80j20o397jj41_NarwhalSalute.png'}, {'giver_coin_reward': None, 'subreddit_id': None, 'is_new': False, 'days_of_drip_extension': None, 'coin_price': 30, 'id': 'award_b4ff447e-05a5-42dc-9002-63568807cfe6', 'penny_donate': None, 'award_sub_type': 'PREMIUM', 'coin_reward': 0, 'icon_url': 'https://www.redditstatic.com/gold/awards/icon/Illuminati_512.png', 'days_of_premium': None, 'tiers_by_required_awardings': None, 'resized_icons': [{'url': 'https://www.redditstatic.com/gold/awards/icon/Illuminati_16.png', 'width': 16, 'height': 16}, {'url': 'https://www.redditstatic.com/gold/awards/icon/Illuminati_32.png', 'width': 32, 'height': 32}, {'url': 'https://www.redditstatic.com/gold/awards/icon/Illuminati_48.png', 'width': 48, 'height': 48}, {'url': 'https://www.redditstatic.com/gold/awards/icon/Illuminati_64.png', 'width': 64, 'height': 64}, {'url': 'https://www.redditstatic.com/gold/awards/icon/Illuminati_128.png', 'width': 128, 'height': 128}], 'icon_width': 2048, 'static_icon_width': 2048, 'start_date': None, 'is_enabled': True, 'awardings_required_to_grant_benefits': None, 'description': 'A glowing commendation for all to see', 'end_date': None, 'sticky_duration_seconds': None, 'subreddit_coin_reward': 0, 'count': 1, 'static_icon_height': 2048, 'name': 'All-Seeing Upvote', 'resized_static_icons': [{'url': 'https://preview.redd.it/award_images/t5_q0gj4/am40b8b08l581_All-SeeingUpvote2.png?width=16&amp;height=16&amp;auto=webp&amp;v=enabled&amp;s=25880d00e4283ff6a3851b64c83fea465c3fac48', 'width': 16, 'height': 16}, {'url': 'https://preview.redd.it/award_images/t5_q0gj4/am40b8b08l581_All-SeeingUpvote2.png?width=32&amp;height=32&amp;auto=webp&amp;v=enabled&amp;s=67fae0c2af26488b9d70cb7afe877086707cf1d1', 'width': 32, 'height': 32}, {'url': 'https://preview.redd.it/award_images/t5_q0gj4/am40b8b08l581_All-SeeingUpvote2.png?width=48&amp;height=48&amp;auto=webp&amp;v=enabled&amp;s=3033c6583809a27b998883b7c56c158102cb0420', 'width': 48, 'height': 48}, {'url': 'https://preview.redd.it/award_images/t5_q0gj4/am40b8b08l581_All-SeeingUpvote2.png?width=64&amp;height=64&amp;auto=webp&amp;v=enabled&amp;s=cccb48d7518eaba72894a7ac4214bb70c7120793', 'width': 64, 'height': 64}, {'url': 'https://preview.redd.it/award_images/t5_q0gj4/am40b8b08l581_All-SeeingUpvote2.png?width=128&amp;height=128&amp;auto=webp&amp;v=enabled&amp;s=4101e0eff424bbd818195853387db358bec74ed0', 'width': 128, 'height': 128}], 'icon_format': 'APNG', 'icon_height': 2048, 'penny_price': None, 'award_type': 'global', 'static_icon_url': 'https://i.redd.it/award_images/t5_q0gj4/am40b8b08l581_All-SeeingUpvote2.png'}], [], False, '5e058b84-4acb-11ed-ae2b-6a59e86b4614', True, False, False, None, [], False, None, None, None, 't5_39ne7', False, None, None, None, '#ffd635', '149yrlt', True, None, 'ilovekerma', None, 1704, True, 'some_ads', False, [], False, None, '/r/therewasanattempt/comments/149yrlt/to_speed_because_he_is_a_cop/', 'some_ads', False, 'https://v.redd.it/evmp79fbr56b1', 6390143, 1686824527, 6, {'reddit_video': {'bitrate_kbps': 1200, 'fallback_url': 'https://v.redd.it/evmp79fbr56b1/DASH_480.mp4?source=fallback', 'has_audio': True, 'height': 480, 'width': 854, 'scrubber_media_url': 'https://v.redd.it/evmp79fbr56b1/DASH_96.mp4', 'dash_url': 'https://v.redd.it/evmp79fbr56b1/DASHPlaylist.mpd?a=1689435086%2CZGI5YzZlMTBkMWViZmZjM2E4NjZhODJlMTM3ZjVjMWNhYWI3NjM5YTcyZmE5ZjA2Mjk5OGUyZjQ5OWY3MDdiMQ%3D%3D&amp;v=1&amp;f=sd', 'duration': 68, 'hls_url': 'https://v.redd.it/evmp79fbr56b1/HLSPlaylist.m3u8?a=1689435086%2CMzA1YjFkMDUwYTIwZDkzZTZjMWVjMGZhYTJmNmI4N2Y0ZWJkYjQ1MjU2YzgwZDJiNmI4MmU0OWRhYTU4MGIyMQ%3D%3D&amp;v=1&amp;f=sd', 'is_gif': False, 'transcoding_status': 'completed'}}, True])]"
      ]
     },
     "execution_count": 39,
     "metadata": {},
     "output_type": "execute_result"
    }
   ],
   "source": [
    "[post['data'].values() for post in posts][0:3]"
   ]
  },
  {
   "attachments": {},
   "cell_type": "markdown",
   "metadata": {},
   "source": [
    "---"
   ]
  },
  {
   "attachments": {},
   "cell_type": "markdown",
   "metadata": {},
   "source": [
    "# **Initial Exploration**"
   ]
  },
  {
   "cell_type": "code",
   "execution_count": 40,
   "metadata": {},
   "outputs": [
    {
     "data": {
      "text/plain": [
       "{'kind': 't3',\n",
       " 'data': {'approved_at_utc': None,\n",
       "  'subreddit': 'WhitePeopleTwitter',\n",
       "  'selftext': '',\n",
       "  'author_fullname': 't2_8a90k0',\n",
       "  'saved': False,\n",
       "  'mod_reason_title': None,\n",
       "  'gilded': 0,\n",
       "  'clicked': False,\n",
       "  'title': \"Yeah, that's not okay.\",\n",
       "  'link_flair_richtext': [{'e': 'text', 't': 'Clubhouse'}],\n",
       "  'subreddit_name_prefixed': 'r/WhitePeopleTwitter',\n",
       "  'hidden': False,\n",
       "  'pwls': None,\n",
       "  'link_flair_css_class': None,\n",
       "  'downs': 0,\n",
       "  'thumbnail_height': 140,\n",
       "  'top_awarded_type': None,\n",
       "  'hide_score': False,\n",
       "  'name': 't3_14a0ayt',\n",
       "  'quarantine': False,\n",
       "  'link_flair_text_color': 'dark',\n",
       "  'upvote_ratio': 0.96,\n",
       "  'author_flair_background_color': None,\n",
       "  'ups': 12836,\n",
       "  'total_awards_received': 0,\n",
       "  'media_embed': {},\n",
       "  'thumbnail_width': 140,\n",
       "  'author_flair_template_id': None,\n",
       "  'is_original_content': False,\n",
       "  'user_reports': [],\n",
       "  'secure_media': None,\n",
       "  'is_reddit_media_domain': True,\n",
       "  'is_meta': False,\n",
       "  'category': None,\n",
       "  'secure_media_embed': {},\n",
       "  'link_flair_text': 'Clubhouse',\n",
       "  'can_mod_post': False,\n",
       "  'score': 12836,\n",
       "  'approved_by': None,\n",
       "  'is_created_from_ads_ui': False,\n",
       "  'author_premium': True,\n",
       "  'thumbnail': 'https://b.thumbs.redditmedia.com/hv0ShtFGoPsuvfG6mqpuNCRxxO6Oabrg-HL7m0-g0ig.jpg',\n",
       "  'edited': False,\n",
       "  'author_flair_css_class': None,\n",
       "  'author_flair_richtext': [],\n",
       "  'gildings': {},\n",
       "  'post_hint': 'image',\n",
       "  'content_categories': None,\n",
       "  'is_self': False,\n",
       "  'subreddit_type': 'public',\n",
       "  'created': 1686829569,\n",
       "  'link_flair_type': 'richtext',\n",
       "  'wls': None,\n",
       "  'removed_by_category': None,\n",
       "  'banned_by': None,\n",
       "  'author_flair_type': 'text',\n",
       "  'domain': 'i.redd.it',\n",
       "  'allow_live_comments': True,\n",
       "  'selftext_html': None,\n",
       "  'likes': None,\n",
       "  'suggested_sort': None,\n",
       "  'banned_at_utc': None,\n",
       "  'url_overridden_by_dest': 'https://i.redd.it/urxp0hrc666b1.png',\n",
       "  'view_count': None,\n",
       "  'archived': False,\n",
       "  'no_follow': False,\n",
       "  'is_crosspostable': True,\n",
       "  'pinned': False,\n",
       "  'over_18': False,\n",
       "  'preview': {'images': [{'source': {'url': 'https://preview.redd.it/urxp0hrc666b1.png?auto=webp&amp;v=enabled&amp;s=ae53a9e5e97d4362ebfebd77a1abdde8a7ca41fa',\n",
       "      'width': 1025,\n",
       "      'height': 1628},\n",
       "     'resolutions': [{'url': 'https://preview.redd.it/urxp0hrc666b1.png?width=108&amp;crop=smart&amp;auto=webp&amp;v=enabled&amp;s=75ebf6d794e5aa01c3d4a5bf7b64dd3cc9485ddd',\n",
       "       'width': 108,\n",
       "       'height': 171},\n",
       "      {'url': 'https://preview.redd.it/urxp0hrc666b1.png?width=216&amp;crop=smart&amp;auto=webp&amp;v=enabled&amp;s=da712ced134d6dcedd7eaea2a66663690d456f64',\n",
       "       'width': 216,\n",
       "       'height': 343},\n",
       "      {'url': 'https://preview.redd.it/urxp0hrc666b1.png?width=320&amp;crop=smart&amp;auto=webp&amp;v=enabled&amp;s=b832ea609bbeebdb2da1b2da61463d2ff5a3dc9c',\n",
       "       'width': 320,\n",
       "       'height': 508},\n",
       "      {'url': 'https://preview.redd.it/urxp0hrc666b1.png?width=640&amp;crop=smart&amp;auto=webp&amp;v=enabled&amp;s=7747364433de8a30d4feea3e1895f539dac5361d',\n",
       "       'width': 640,\n",
       "       'height': 1016},\n",
       "      {'url': 'https://preview.redd.it/urxp0hrc666b1.png?width=960&amp;crop=smart&amp;auto=webp&amp;v=enabled&amp;s=d8ae213a98dacc7f59e907fcdc144299935f1376',\n",
       "       'width': 960,\n",
       "       'height': 1524}],\n",
       "     'variants': {},\n",
       "     'id': '4VWgAl4VJ8GxVz6JYR6o2aXvzunbKRAKU0VefcwCayg'}],\n",
       "   'enabled': True},\n",
       "  'all_awardings': [],\n",
       "  'awarders': [],\n",
       "  'media_only': False,\n",
       "  'link_flair_template_id': '2491e734-cd17-11ed-9c62-06fbff1c98dd',\n",
       "  'can_gild': True,\n",
       "  'spoiler': False,\n",
       "  'locked': False,\n",
       "  'author_flair_text': None,\n",
       "  'treatment_tags': [],\n",
       "  'visited': False,\n",
       "  'removed_by': None,\n",
       "  'mod_note': None,\n",
       "  'distinguished': None,\n",
       "  'subreddit_id': 't5_35n7t',\n",
       "  'author_is_blocked': False,\n",
       "  'mod_reason_by': None,\n",
       "  'num_reports': None,\n",
       "  'removal_reason': None,\n",
       "  'link_flair_background_color': '#7193ff',\n",
       "  'id': '14a0ayt',\n",
       "  'is_robot_indexable': True,\n",
       "  'report_reasons': None,\n",
       "  'author': 'BitterFuture',\n",
       "  'discussion_type': None,\n",
       "  'num_comments': 1221,\n",
       "  'send_replies': True,\n",
       "  'whitelist_status': None,\n",
       "  'contest_mode': False,\n",
       "  'mod_reports': [],\n",
       "  'author_patreon_flair': False,\n",
       "  'author_flair_text_color': None,\n",
       "  'permalink': '/r/WhitePeopleTwitter/comments/14a0ayt/yeah_thats_not_okay/',\n",
       "  'parent_whitelist_status': None,\n",
       "  'stickied': False,\n",
       "  'url': 'https://i.redd.it/urxp0hrc666b1.png',\n",
       "  'subreddit_subscribers': 2956095,\n",
       "  'created_utc': 1686829569,\n",
       "  'num_crossposts': 4,\n",
       "  'media': None,\n",
       "  'is_video': False}}"
      ]
     },
     "execution_count": 40,
     "metadata": {},
     "output_type": "execute_result"
    }
   ],
   "source": [
    "single_post = raw_data['data']['children'][0]\n",
    "single_post"
   ]
  },
  {
   "cell_type": "code",
   "execution_count": 41,
   "metadata": {},
   "outputs": [
    {
     "data": {
      "text/plain": [
       "{'approved_at_utc': None,\n",
       " 'subreddit': 'WhitePeopleTwitter',\n",
       " 'selftext': '',\n",
       " 'author_fullname': 't2_8a90k0',\n",
       " 'saved': False,\n",
       " 'mod_reason_title': None,\n",
       " 'gilded': 0,\n",
       " 'clicked': False,\n",
       " 'title': \"Yeah, that's not okay.\",\n",
       " 'link_flair_richtext': [{'e': 'text', 't': 'Clubhouse'}],\n",
       " 'subreddit_name_prefixed': 'r/WhitePeopleTwitter',\n",
       " 'hidden': False,\n",
       " 'pwls': None,\n",
       " 'link_flair_css_class': None,\n",
       " 'downs': 0,\n",
       " 'thumbnail_height': 140,\n",
       " 'top_awarded_type': None,\n",
       " 'hide_score': False,\n",
       " 'name': 't3_14a0ayt',\n",
       " 'quarantine': False,\n",
       " 'link_flair_text_color': 'dark',\n",
       " 'upvote_ratio': 0.96,\n",
       " 'author_flair_background_color': None,\n",
       " 'ups': 12836,\n",
       " 'total_awards_received': 0,\n",
       " 'media_embed': {},\n",
       " 'thumbnail_width': 140,\n",
       " 'author_flair_template_id': None,\n",
       " 'is_original_content': False,\n",
       " 'user_reports': [],\n",
       " 'secure_media': None,\n",
       " 'is_reddit_media_domain': True,\n",
       " 'is_meta': False,\n",
       " 'category': None,\n",
       " 'secure_media_embed': {},\n",
       " 'link_flair_text': 'Clubhouse',\n",
       " 'can_mod_post': False,\n",
       " 'score': 12836,\n",
       " 'approved_by': None,\n",
       " 'is_created_from_ads_ui': False,\n",
       " 'author_premium': True,\n",
       " 'thumbnail': 'https://b.thumbs.redditmedia.com/hv0ShtFGoPsuvfG6mqpuNCRxxO6Oabrg-HL7m0-g0ig.jpg',\n",
       " 'edited': False,\n",
       " 'author_flair_css_class': None,\n",
       " 'author_flair_richtext': [],\n",
       " 'gildings': {},\n",
       " 'post_hint': 'image',\n",
       " 'content_categories': None,\n",
       " 'is_self': False,\n",
       " 'subreddit_type': 'public',\n",
       " 'created': 1686829569,\n",
       " 'link_flair_type': 'richtext',\n",
       " 'wls': None,\n",
       " 'removed_by_category': None,\n",
       " 'banned_by': None,\n",
       " 'author_flair_type': 'text',\n",
       " 'domain': 'i.redd.it',\n",
       " 'allow_live_comments': True,\n",
       " 'selftext_html': None,\n",
       " 'likes': None,\n",
       " 'suggested_sort': None,\n",
       " 'banned_at_utc': None,\n",
       " 'url_overridden_by_dest': 'https://i.redd.it/urxp0hrc666b1.png',\n",
       " 'view_count': None,\n",
       " 'archived': False,\n",
       " 'no_follow': False,\n",
       " 'is_crosspostable': True,\n",
       " 'pinned': False,\n",
       " 'over_18': False,\n",
       " 'preview': {'images': [{'source': {'url': 'https://preview.redd.it/urxp0hrc666b1.png?auto=webp&amp;v=enabled&amp;s=ae53a9e5e97d4362ebfebd77a1abdde8a7ca41fa',\n",
       "     'width': 1025,\n",
       "     'height': 1628},\n",
       "    'resolutions': [{'url': 'https://preview.redd.it/urxp0hrc666b1.png?width=108&amp;crop=smart&amp;auto=webp&amp;v=enabled&amp;s=75ebf6d794e5aa01c3d4a5bf7b64dd3cc9485ddd',\n",
       "      'width': 108,\n",
       "      'height': 171},\n",
       "     {'url': 'https://preview.redd.it/urxp0hrc666b1.png?width=216&amp;crop=smart&amp;auto=webp&amp;v=enabled&amp;s=da712ced134d6dcedd7eaea2a66663690d456f64',\n",
       "      'width': 216,\n",
       "      'height': 343},\n",
       "     {'url': 'https://preview.redd.it/urxp0hrc666b1.png?width=320&amp;crop=smart&amp;auto=webp&amp;v=enabled&amp;s=b832ea609bbeebdb2da1b2da61463d2ff5a3dc9c',\n",
       "      'width': 320,\n",
       "      'height': 508},\n",
       "     {'url': 'https://preview.redd.it/urxp0hrc666b1.png?width=640&amp;crop=smart&amp;auto=webp&amp;v=enabled&amp;s=7747364433de8a30d4feea3e1895f539dac5361d',\n",
       "      'width': 640,\n",
       "      'height': 1016},\n",
       "     {'url': 'https://preview.redd.it/urxp0hrc666b1.png?width=960&amp;crop=smart&amp;auto=webp&amp;v=enabled&amp;s=d8ae213a98dacc7f59e907fcdc144299935f1376',\n",
       "      'width': 960,\n",
       "      'height': 1524}],\n",
       "    'variants': {},\n",
       "    'id': '4VWgAl4VJ8GxVz6JYR6o2aXvzunbKRAKU0VefcwCayg'}],\n",
       "  'enabled': True},\n",
       " 'all_awardings': [],\n",
       " 'awarders': [],\n",
       " 'media_only': False,\n",
       " 'link_flair_template_id': '2491e734-cd17-11ed-9c62-06fbff1c98dd',\n",
       " 'can_gild': True,\n",
       " 'spoiler': False,\n",
       " 'locked': False,\n",
       " 'author_flair_text': None,\n",
       " 'treatment_tags': [],\n",
       " 'visited': False,\n",
       " 'removed_by': None,\n",
       " 'mod_note': None,\n",
       " 'distinguished': None,\n",
       " 'subreddit_id': 't5_35n7t',\n",
       " 'author_is_blocked': False,\n",
       " 'mod_reason_by': None,\n",
       " 'num_reports': None,\n",
       " 'removal_reason': None,\n",
       " 'link_flair_background_color': '#7193ff',\n",
       " 'id': '14a0ayt',\n",
       " 'is_robot_indexable': True,\n",
       " 'report_reasons': None,\n",
       " 'author': 'BitterFuture',\n",
       " 'discussion_type': None,\n",
       " 'num_comments': 1221,\n",
       " 'send_replies': True,\n",
       " 'whitelist_status': None,\n",
       " 'contest_mode': False,\n",
       " 'mod_reports': [],\n",
       " 'author_patreon_flair': False,\n",
       " 'author_flair_text_color': None,\n",
       " 'permalink': '/r/WhitePeopleTwitter/comments/14a0ayt/yeah_thats_not_okay/',\n",
       " 'parent_whitelist_status': None,\n",
       " 'stickied': False,\n",
       " 'url': 'https://i.redd.it/urxp0hrc666b1.png',\n",
       " 'subreddit_subscribers': 2956095,\n",
       " 'created_utc': 1686829569,\n",
       " 'num_crossposts': 4,\n",
       " 'media': None,\n",
       " 'is_video': False}"
      ]
     },
     "execution_count": 41,
     "metadata": {},
     "output_type": "execute_result"
    }
   ],
   "source": [
    "single_post_data = raw_data['data']['children'][0]['data']\n",
    "single_post_data"
   ]
  },
  {
   "cell_type": "code",
   "execution_count": 43,
   "metadata": {},
   "outputs": [
    {
     "data": {
      "text/plain": [
       "[\"Yeah, that's not okay.\",\n",
       " 'Just 1 neat single page law would completely change the housing market.',\n",
       " 'To speed because he is a cop.']"
      ]
     },
     "execution_count": 43,
     "metadata": {},
     "output_type": "execute_result"
    }
   ],
   "source": [
    "[post['data']['title'] for post in posts][0:3]"
   ]
  },
  {
   "cell_type": "code",
   "execution_count": 45,
   "metadata": {},
   "outputs": [
    {
     "name": "stdout",
     "output_type": "stream",
     "text": [
      "Yeah, that's not okay.\n",
      "Just 1 neat single page law would completely change the housing market.\n",
      "To speed because he is a cop.\n"
     ]
    }
   ],
   "source": [
    "# print the title of each post\n",
    "for post in posts[0:3]:\n",
    "    print(post['data']['title'])"
   ]
  },
  {
   "attachments": {},
   "cell_type": "markdown",
   "metadata": {},
   "source": [
    "---"
   ]
  },
  {
   "cell_type": "code",
   "execution_count": 46,
   "metadata": {},
   "outputs": [
    {
     "data": {
      "text/plain": [
       "defaultdict(int,\n",
       "            {'approved_at_utc': 25,\n",
       "             'subreddit': 25,\n",
       "             'selftext': 25,\n",
       "             'author_fullname': 25,\n",
       "             'saved': 25,\n",
       "             'mod_reason_title': 25,\n",
       "             'gilded': 25,\n",
       "             'clicked': 25,\n",
       "             'title': 25,\n",
       "             'link_flair_richtext': 25,\n",
       "             'subreddit_name_prefixed': 25,\n",
       "             'hidden': 25,\n",
       "             'pwls': 25,\n",
       "             'link_flair_css_class': 25,\n",
       "             'downs': 25,\n",
       "             'thumbnail_height': 25,\n",
       "             'top_awarded_type': 25,\n",
       "             'hide_score': 25,\n",
       "             'name': 25,\n",
       "             'quarantine': 25,\n",
       "             'link_flair_text_color': 25,\n",
       "             'upvote_ratio': 25,\n",
       "             'author_flair_background_color': 25,\n",
       "             'ups': 25,\n",
       "             'total_awards_received': 25,\n",
       "             'media_embed': 25,\n",
       "             'thumbnail_width': 25,\n",
       "             'author_flair_template_id': 25,\n",
       "             'is_original_content': 25,\n",
       "             'user_reports': 25,\n",
       "             'secure_media': 25,\n",
       "             'is_reddit_media_domain': 25,\n",
       "             'is_meta': 25,\n",
       "             'category': 25,\n",
       "             'secure_media_embed': 25,\n",
       "             'link_flair_text': 25,\n",
       "             'can_mod_post': 25,\n",
       "             'score': 25,\n",
       "             'approved_by': 25,\n",
       "             'is_created_from_ads_ui': 25,\n",
       "             'author_premium': 25,\n",
       "             'thumbnail': 25,\n",
       "             'edited': 25,\n",
       "             'author_flair_css_class': 25,\n",
       "             'author_flair_richtext': 25,\n",
       "             'gildings': 25,\n",
       "             'post_hint': 22,\n",
       "             'content_categories': 25,\n",
       "             'is_self': 25,\n",
       "             'subreddit_type': 25,\n",
       "             'created': 25,\n",
       "             'link_flair_type': 25,\n",
       "             'wls': 25,\n",
       "             'removed_by_category': 25,\n",
       "             'banned_by': 25,\n",
       "             'author_flair_type': 25,\n",
       "             'domain': 25,\n",
       "             'allow_live_comments': 25,\n",
       "             'selftext_html': 25,\n",
       "             'likes': 25,\n",
       "             'suggested_sort': 25,\n",
       "             'banned_at_utc': 25,\n",
       "             'url_overridden_by_dest': 23,\n",
       "             'view_count': 25,\n",
       "             'archived': 25,\n",
       "             'no_follow': 25,\n",
       "             'is_crosspostable': 25,\n",
       "             'pinned': 25,\n",
       "             'over_18': 25,\n",
       "             'preview': 22,\n",
       "             'all_awardings': 25,\n",
       "             'awarders': 25,\n",
       "             'media_only': 25,\n",
       "             'link_flair_template_id': 10,\n",
       "             'can_gild': 25,\n",
       "             'spoiler': 25,\n",
       "             'locked': 25,\n",
       "             'author_flair_text': 25,\n",
       "             'treatment_tags': 25,\n",
       "             'visited': 25,\n",
       "             'removed_by': 25,\n",
       "             'mod_note': 25,\n",
       "             'distinguished': 25,\n",
       "             'subreddit_id': 25,\n",
       "             'author_is_blocked': 25,\n",
       "             'mod_reason_by': 25,\n",
       "             'num_reports': 25,\n",
       "             'removal_reason': 25,\n",
       "             'link_flair_background_color': 25,\n",
       "             'id': 25,\n",
       "             'is_robot_indexable': 25,\n",
       "             'report_reasons': 25,\n",
       "             'author': 25,\n",
       "             'discussion_type': 25,\n",
       "             'num_comments': 25,\n",
       "             'send_replies': 25,\n",
       "             'whitelist_status': 25,\n",
       "             'contest_mode': 25,\n",
       "             'mod_reports': 25,\n",
       "             'author_patreon_flair': 25,\n",
       "             'author_flair_text_color': 25,\n",
       "             'permalink': 25,\n",
       "             'parent_whitelist_status': 25,\n",
       "             'stickied': 25,\n",
       "             'url': 25,\n",
       "             'subreddit_subscribers': 25,\n",
       "             'created_utc': 25,\n",
       "             'num_crossposts': 25,\n",
       "             'media': 25,\n",
       "             'is_video': 25,\n",
       "             'is_gallery': 1,\n",
       "             'media_metadata': 1,\n",
       "             'gallery_data': 1})"
      ]
     },
     "execution_count": 46,
     "metadata": {},
     "output_type": "execute_result"
    }
   ],
   "source": [
    "key_counts = defaultdict(int)  # initialize a default dictionary\n",
    "\n",
    "for post in posts:\n",
    "    for key in post['data'].keys():\n",
    "        key_counts[key] += 1  # increment the count for each key\n",
    "key_counts"
   ]
  },
  {
   "cell_type": "code",
   "execution_count": 47,
   "metadata": {},
   "outputs": [
    {
     "data": {
      "text/plain": [
       "113"
      ]
     },
     "execution_count": 47,
     "metadata": {},
     "output_type": "execute_result"
    }
   ],
   "source": [
    "len(key_counts)"
   ]
  },
  {
   "cell_type": "code",
   "execution_count": null,
   "metadata": {},
   "outputs": [],
   "source": []
  }
 ],
 "metadata": {
  "kernelspec": {
   "display_name": "Python 3",
   "language": "python",
   "name": "python3"
  },
  "language_info": {
   "codemirror_mode": {
    "name": "ipython",
    "version": 3
   },
   "file_extension": ".py",
   "mimetype": "text/x-python",
   "name": "python",
   "nbconvert_exporter": "python",
   "pygments_lexer": "ipython3",
   "version": "3.11.3"
  },
  "orig_nbformat": 4
 },
 "nbformat": 4,
 "nbformat_minor": 2
}
